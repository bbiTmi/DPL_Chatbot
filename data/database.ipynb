{
 "cells": [
  {
   "cell_type": "code",
   "execution_count": 1,
   "id": "2978ee97",
   "metadata": {},
   "outputs": [],
   "source": [
    "import sqlite3"
   ]
  },
  {
   "cell_type": "code",
   "execution_count": 2,
   "id": "ad23b65c",
   "metadata": {},
   "outputs": [],
   "source": [
    "conn = sqlite3.connect(\"coffee.db\")\n",
    "cursor = conn.cursor()"
   ]
  },
  {
   "cell_type": "markdown",
   "id": "87fb8954",
   "metadata": {},
   "source": [
    "### Menu"
   ]
  },
  {
   "cell_type": "code",
   "execution_count": null,
   "id": "fd91ffd7",
   "metadata": {},
   "outputs": [],
   "source": [
    "cursor.execute(\"\"\" CREATE TABLE menu (\n",
    "               id INT PRIMARY KEY,\n",
    "               item TEXT NOT NULL,\n",
    "               price REAL NOT NULL)\"\"\")"
   ]
  },
  {
   "cell_type": "code",
   "execution_count": 8,
   "id": "21c8ed25",
   "metadata": {},
   "outputs": [
    {
     "data": {
      "text/plain": [
       "<sqlite3.Cursor at 0x1fa219f01c0>"
      ]
     },
     "execution_count": 8,
     "metadata": {},
     "output_type": "execute_result"
    }
   ],
   "source": [
    "cursor.execute(\"\"\"\n",
    "INSERT INTO menu (id, item, price) VALUES\n",
    "   (1, 'Americano', 4),\n",
    "   (2, 'Capuccino', 3),\n",
    "   (3, 'Latte', 4.2),\n",
    "   (4, 'Mocha', 4.5),\n",
    "   (5, 'White Mocha', 5),\n",
    "   (6, 'Black Tea', 3),\n",
    "   (7, 'Chai Tea', 3),\n",
    "   (8, 'Green Mint', 3.5),\n",
    "   (9, 'Hot Chocolate', 3),\n",
    "   (10, 'Matcha Latte', 4.2);\n",
    "\"\"\")"
   ]
  },
  {
   "cell_type": "code",
   "execution_count": 9,
   "id": "54cfc515",
   "metadata": {},
   "outputs": [],
   "source": [
    "conn.commit()"
   ]
  },
  {
   "cell_type": "markdown",
   "id": "d2303ade",
   "metadata": {},
   "source": [
    "### Order"
   ]
  },
  {
   "cell_type": "code",
   "execution_count": 5,
   "id": "45ec43ca",
   "metadata": {},
   "outputs": [],
   "source": [
    "cursor.execute(\"\"\" CREATE TABLE orders (\n",
    "               id INT PRIMARY KEY,\n",
    "               item TEXT,\n",
    "               qty int,\n",
    "               timestamp DATETIME DEFAULT CURRENT_TIMESTAMP)\"\"\")\n",
    "conn.commit()"
   ]
  }
 ],
 "metadata": {
  "kernelspec": {
   "display_name": "Python 3",
   "language": "python",
   "name": "python3"
  },
  "language_info": {
   "codemirror_mode": {
    "name": "ipython",
    "version": 3
   },
   "file_extension": ".py",
   "mimetype": "text/x-python",
   "name": "python",
   "nbconvert_exporter": "python",
   "pygments_lexer": "ipython3",
   "version": "3.11.9"
  }
 },
 "nbformat": 4,
 "nbformat_minor": 5
}
